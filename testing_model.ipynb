{
 "cells": [
  {
   "cell_type": "code",
   "execution_count": 22,
   "metadata": {},
   "outputs": [],
   "source": [
    "from keras.preprocessing import image\n",
    "from keras.models import load_model\n",
    "import cv2\n",
    "import numpy as np\n",
    "import os"
   ]
  },
  {
   "cell_type": "code",
   "execution_count": 23,
   "metadata": {},
   "outputs": [],
   "source": [
    "Rev_class_map={\n",
    "    0:'paper',\n",
    "    1:'rock',\n",
    "    2:'scissors'\n",
    "}\n",
    "def mapper(val):\n",
    "    return Rev_class_map[val]"
   ]
  },
  {
   "cell_type": "code",
   "execution_count": 24,
   "metadata": {},
   "outputs": [],
   "source": [
    "# here move1 is user,move2 is computer\n",
    "def calculate_winner(move1,move2):\n",
    "    if move1==move2:\n",
    "        return \"Tie\"\n",
    "    if move1==\"rock\":\n",
    "        if move2==\"scissors\":\n",
    "            return \"User\"\n",
    "        if move2==\"paper\":\n",
    "            return \"Computer\"\n",
    "    if move1==\"scissors\":\n",
    "        if move2==\"rock\":\n",
    "            return \"Computer\"\n",
    "        if move2==\"paper\":\n",
    "            return \"User\"\n",
    "    if move1==\"paper\":\n",
    "        if move2==\"rock\":\n",
    "            return \"user\"\n",
    "        if move2==\"scissors\":\n",
    "            return \"Computer\"    \n",
    "\n"
   ]
  },
  {
   "cell_type": "code",
   "execution_count": 25,
   "metadata": {},
   "outputs": [],
   "source": [
    "#load model\n",
    "model=load_model(\"rps.h2\")\n",
    "   "
   ]
  },
  {
   "cell_type": "code",
   "execution_count": null,
   "metadata": {},
   "outputs": [],
   "source": [
    "cap=cv2.VideoCapture(0)\n",
    "\n",
    "def increase_screen():\n",
    "    cap.set(3,1366)\n",
    "    cap.set(4,720)\n",
    "\n",
    "increase_screen()\n",
    "prev_move=None\n",
    "while True:\n",
    "    ret,frame=cap.read()\n",
    "    if ret==False:\n",
    "        continue\n",
    "    #rectangle for user to play\n",
    "    cv2.rectangle(frame,(100,100),(500,500),(0,0,255),2)\n",
    "    #rectangle for computer to play\n",
    "    cv2.rectangle(frame,(800,100),(1200,500),(255,0,0),2)\n",
    "    #extract the region of image within the user rectangle\n",
    "    roi=frame[100:500,100:500]\n",
    "    img=cv2.cvtColor(roi,cv2.COLOR_BGR2RGB)\n",
    "    img=cv2.resize(img,(150,150))\n",
    "    \n",
    "    img=np.array(img)\n",
    "    img = np.expand_dims(img, axis=0)\n",
    "    pred=model.predict(img)\n",
    "    move_code=np.argmax(pred)\n",
    "    user_move_name=mapper(move_code)\n",
    "    #predict the winner\n",
    "    if prev_move!=user_move_name:\n",
    "        computer_move_name=np.random.choice(['rock','paper','scissors'])\n",
    "        winner=calculate_winner(user_move_name,computer_move_name)\n",
    "    prev_move=user_move_name\n",
    "    #display the info\n",
    "    font=cv2.FONT_HERSHEY_SIMPLEX\n",
    "    cv2.putText(frame,\"Your Move : \"+user_move_name,(50,50),font,1.2,(0,0,255),2,cv2.LINE_AA)\n",
    "    cv2.putText(frame,\"Computer's Move : \"+computer_move_name,(750,50),font,1.2,(255,0,0),2,cv2.LINE_AA)\n",
    "    cv2.putText(frame,\"Winner : \"+winner,(400,600),font,2,(0,255,0),4,cv2.LINE_AA)\n",
    "    \n",
    "    icon=cv2.imread(\"images/{}.png\".format(computer_move_name))\n",
    "    icon=cv2.resize(icon,(400,400))\n",
    "    frame[100:500,800:1200]=icon\n",
    "    cv2.imshow(\"Rock Paper Scissor\",frame)    \n",
    "        \n",
    "    key_pressed=cv2.waitKey(10) \n",
    "    if key_pressed==ord('q'):\n",
    "        break\n",
    "cap.release()\n",
    "cv2.destroyAllWindows()"
   ]
  },
  {
   "cell_type": "code",
   "execution_count": 6,
   "metadata": {},
   "outputs": [],
   "source": []
  },
  {
   "cell_type": "code",
   "execution_count": null,
   "metadata": {},
   "outputs": [],
   "source": []
  },
  {
   "cell_type": "code",
   "execution_count": null,
   "metadata": {},
   "outputs": [],
   "source": []
  }
 ],
 "metadata": {
  "kernelspec": {
   "display_name": "Python 3",
   "language": "python",
   "name": "python3"
  },
  "language_info": {
   "codemirror_mode": {
    "name": "ipython",
    "version": 3
   },
   "file_extension": ".py",
   "mimetype": "text/x-python",
   "name": "python",
   "nbconvert_exporter": "python",
   "pygments_lexer": "ipython3",
   "version": "3.7.6"
  }
 },
 "nbformat": 4,
 "nbformat_minor": 4
}
