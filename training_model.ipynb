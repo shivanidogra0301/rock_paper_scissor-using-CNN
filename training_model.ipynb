{
  "nbformat": 4,
  "nbformat_minor": 0,
  "metadata": {
    "colab": {
      "name": "Rps.ipynb",
      "provenance": [],
      "private_outputs": true
    },
    "kernelspec": {
      "name": "python3",
      "display_name": "Python 3"
    },
    "accelerator": "GPU"
  },
  "cells": [
    {
      "cell_type": "code",
      "metadata": {
        "id": "t2ZTJGqCHT3B",
        "colab_type": "code",
        "colab": {}
      },
      "source": [
        "#Dataset\n",
        "!wget https://storage.googleapis.com/laurencemoroney-blog.appspot.com/rps.zip\n",
        "!wget https://storage.googleapis.com/laurencemoroney-blog.appspot.com/rps-test-set.zip\n",
        "!wget https://storage.googleapis.com/laurencemoroney-blog.appspot.com/rps-validation.zip\n"
      ],
      "execution_count": 0,
      "outputs": []
    },
    {
      "cell_type": "code",
      "metadata": {
        "id": "1CNaejq_Qet_",
        "colab_type": "code",
        "colab": {}
      },
      "source": [
        "!unzip rps.zip\n",
        "!unzip rps-test-set.zip\n",
        "!unzip rps-validation.zip\n"
      ],
      "execution_count": 0,
      "outputs": []
    },
    {
      "cell_type": "code",
      "metadata": {
        "id": "KpfBBhXezIzP",
        "colab_type": "code",
        "colab": {}
      },
      "source": [
        "from keras.preprocessing import image\n",
        "from keras.models import *\n",
        "import numpy as np\n",
        "from keras.layers import *\n",
        "from keras.optimizers import Adam\n",
        "import keras\n"
      ],
      "execution_count": 0,
      "outputs": []
    },
    {
      "cell_type": "code",
      "metadata": {
        "id": "q3TtYAaBQoom",
        "colab_type": "code",
        "colab": {}
      },
      "source": [
        "Train_Path=\"rps\"\n",
        "train_datagen=image.ImageDataGenerator(\n",
        "    rescale=1./255,\n",
        "    shear_range=0.2,\n",
        "    zoom_range=0.2,\n",
        "    horizontal_flip=True,\n",
        "    fill_mode='nearest',\n",
        "    height_shift_range=0.2,\n",
        "    width_shift_range=0.2,\n",
        "    rotation_range=30\n",
        ")\n",
        "val_datagen=image.ImageDataGenerator(rescale=1/255)\n"
      ],
      "execution_count": 0,
      "outputs": []
    },
    {
      "cell_type": "markdown",
      "metadata": {
        "id": "b1RQ9ZUijZxu",
        "colab_type": "text"
      },
      "source": [
        "[link text](https:// [link text](https://))"
      ]
    },
    {
      "cell_type": "code",
      "metadata": {
        "id": "hvq3Vu6MRTtI",
        "colab_type": "code",
        "colab": {}
      },
      "source": [
        "train_gen=train_datagen.flow_from_directory(\n",
        "    Train_Path,\n",
        "    target_size=(150,150),\n",
        "    class_mode='categorical',\n",
        "    shuffle=True,\n",
        "    batch_size=32\n",
        ")\n",
        "# train_gen.class_indices"
      ],
      "execution_count": 0,
      "outputs": []
    },
    {
      "cell_type": "code",
      "metadata": {
        "id": "4x93CYRcq_NU",
        "colab_type": "code",
        "colab": {}
      },
      "source": [
        "val_gen=val_datagen.flow_from_directory(\n",
        "    \"rps-test-set/\",\n",
        "    target_size=(150,150),\n",
        "    class_mode='categorical',\n",
        "    batch_size=32\n",
        ")"
      ],
      "execution_count": 0,
      "outputs": []
    },
    {
      "cell_type": "code",
      "metadata": {
        "id": "NFJ9UtqwrQka",
        "colab_type": "code",
        "colab": {}
      },
      "source": [
        "# Model \n",
        "model=Sequential()\n",
        "model.add(Conv2D(64,kernel_size=(3,3),activation='relu',input_shape=(150,150,3)))\n",
        "model.add(MaxPooling2D(pool_size=(2,2)))\n",
        "model.add(Conv2D(64,(3,3),activation='relu'))\n",
        "model.add(MaxPooling2D(pool_size=(2,2)))\n",
        "model.add(Conv2D(128,(3,3),activation='relu'))\n",
        "model.add(MaxPooling2D(pool_size=(2,2)))\n",
        "model.add(Conv2D(128,(3,3),activation='relu'))\n",
        "model.add(MaxPooling2D(pool_size=(2,2)))\n",
        "model.add(Flatten())\n",
        "model.add(Dropout(0.5))\n",
        "\n",
        "\n",
        "model.add(Dense(64,activation='relu'))\n",
        "model.add(Dense(3,activation='softmax'))\n",
        "model.summary()"
      ],
      "execution_count": 0,
      "outputs": []
    },
    {
      "cell_type": "code",
      "metadata": {
        "id": "X76wcPIQsPTR",
        "colab_type": "code",
        "colab": {}
      },
      "source": [
        "model.compile(optimizer='rmsprop',loss='categorical_crossentropy',\n",
        "              metrics=['accuracy'])"
      ],
      "execution_count": 0,
      "outputs": []
    },
    {
      "cell_type": "code",
      "metadata": {
        "id": "LiHGFud1sZV5",
        "colab_type": "code",
        "colab": {}
      },
      "source": [
        "hist=model.fit_generator(\n",
        "    train_gen,\n",
        "    epochs=6,\n",
        "    validation_data=val_gen,\n",
        "    validation_steps=None,\n",
        "    verbose=1\n",
        "    \n",
        "    )                                                                                                         \n",
        "model.save(\"rps.h2\") #save model\n"
      ],
      "execution_count": 0,
      "outputs": []
    },
    {
      "cell_type": "code",
      "metadata": {
        "id": "Eu8powEzoFMR",
        "colab_type": "code",
        "colab": {}
      },
      "source": [
        "#testing model\n",
        "img=image.load_img(\"/content/val_images/rock/01dM3ewPIsnBICu1.png\" , target_size=(150,150))\n",
        "img=np.array(img)\n",
        "img = np.expand_dims(img, axis=0)\n",
        "pred=model.predict(img)\n",
        "label = pred/np.linalg.norm(pred)\n",
        "label=np.argmax(pred)\n",
        "print(label)"
      ],
      "execution_count": 0,
      "outputs": []
    },
    {
      "cell_type": "code",
      "metadata": {
        "id": "Q3jU35bZYZPb",
        "colab_type": "code",
        "colab": {}
      },
      "source": [
        ""
      ],
      "execution_count": 0,
      "outputs": []
    },
    {
      "cell_type": "code",
      "metadata": {
        "id": "MyPdb8iIY7gU",
        "colab_type": "code",
        "colab": {}
      },
      "source": [
        ""
      ],
      "execution_count": 0,
      "outputs": []
    },
    {
      "cell_type": "code",
      "metadata": {
        "id": "stx6cC8XbBi8",
        "colab_type": "code",
        "colab": {}
      },
      "source": [
        ""
      ],
      "execution_count": 0,
      "outputs": []
    }
  ]
}